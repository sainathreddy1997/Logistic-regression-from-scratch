{
 "cells": [
  {
   "cell_type": "code",
   "execution_count": 1,
   "metadata": {},
   "outputs": [],
   "source": [
    "import warnings\n",
    "import numpy as np\n",
    "import pandas as pd\n",
    "from matplotlib import pyplot as plt\n",
    "import seaborn as sns\n",
    "sns.set_theme(style=\"darkgrid\")"
   ]
  },
  {
   "cell_type": "code",
   "execution_count": 2,
   "metadata": {},
   "outputs": [],
   "source": [
    "X_train = pd.read_csv('train.csv')"
   ]
  },
  {
   "cell_type": "code",
   "execution_count": 3,
   "metadata": {},
   "outputs": [
    {
     "data": {
      "text/html": [
       "<div>\n",
       "<style scoped>\n",
       "    .dataframe tbody tr th:only-of-type {\n",
       "        vertical-align: middle;\n",
       "    }\n",
       "\n",
       "    .dataframe tbody tr th {\n",
       "        vertical-align: top;\n",
       "    }\n",
       "\n",
       "    .dataframe thead th {\n",
       "        text-align: right;\n",
       "    }\n",
       "</style>\n",
       "<table border=\"1\" class=\"dataframe\">\n",
       "  <thead>\n",
       "    <tr style=\"text-align: right;\">\n",
       "      <th></th>\n",
       "      <th>PassengerId</th>\n",
       "      <th>Survived</th>\n",
       "      <th>Pclass</th>\n",
       "      <th>Name</th>\n",
       "      <th>Sex</th>\n",
       "      <th>Age</th>\n",
       "      <th>SibSp</th>\n",
       "      <th>Parch</th>\n",
       "      <th>Ticket</th>\n",
       "      <th>Fare</th>\n",
       "      <th>Cabin</th>\n",
       "      <th>Embarked</th>\n",
       "    </tr>\n",
       "  </thead>\n",
       "  <tbody>\n",
       "    <tr>\n",
       "      <th>0</th>\n",
       "      <td>1</td>\n",
       "      <td>0</td>\n",
       "      <td>3</td>\n",
       "      <td>Braund, Mr. Owen Harris</td>\n",
       "      <td>male</td>\n",
       "      <td>22.0</td>\n",
       "      <td>1</td>\n",
       "      <td>0</td>\n",
       "      <td>A/5 21171</td>\n",
       "      <td>7.2500</td>\n",
       "      <td>NaN</td>\n",
       "      <td>S</td>\n",
       "    </tr>\n",
       "    <tr>\n",
       "      <th>1</th>\n",
       "      <td>2</td>\n",
       "      <td>1</td>\n",
       "      <td>1</td>\n",
       "      <td>Cumings, Mrs. John Bradley (Florence Briggs Th...</td>\n",
       "      <td>female</td>\n",
       "      <td>38.0</td>\n",
       "      <td>1</td>\n",
       "      <td>0</td>\n",
       "      <td>PC 17599</td>\n",
       "      <td>71.2833</td>\n",
       "      <td>C85</td>\n",
       "      <td>C</td>\n",
       "    </tr>\n",
       "    <tr>\n",
       "      <th>2</th>\n",
       "      <td>3</td>\n",
       "      <td>1</td>\n",
       "      <td>3</td>\n",
       "      <td>Heikkinen, Miss. Laina</td>\n",
       "      <td>female</td>\n",
       "      <td>26.0</td>\n",
       "      <td>0</td>\n",
       "      <td>0</td>\n",
       "      <td>STON/O2. 3101282</td>\n",
       "      <td>7.9250</td>\n",
       "      <td>NaN</td>\n",
       "      <td>S</td>\n",
       "    </tr>\n",
       "    <tr>\n",
       "      <th>3</th>\n",
       "      <td>4</td>\n",
       "      <td>1</td>\n",
       "      <td>1</td>\n",
       "      <td>Futrelle, Mrs. Jacques Heath (Lily May Peel)</td>\n",
       "      <td>female</td>\n",
       "      <td>35.0</td>\n",
       "      <td>1</td>\n",
       "      <td>0</td>\n",
       "      <td>113803</td>\n",
       "      <td>53.1000</td>\n",
       "      <td>C123</td>\n",
       "      <td>S</td>\n",
       "    </tr>\n",
       "    <tr>\n",
       "      <th>4</th>\n",
       "      <td>5</td>\n",
       "      <td>0</td>\n",
       "      <td>3</td>\n",
       "      <td>Allen, Mr. William Henry</td>\n",
       "      <td>male</td>\n",
       "      <td>35.0</td>\n",
       "      <td>0</td>\n",
       "      <td>0</td>\n",
       "      <td>373450</td>\n",
       "      <td>8.0500</td>\n",
       "      <td>NaN</td>\n",
       "      <td>S</td>\n",
       "    </tr>\n",
       "  </tbody>\n",
       "</table>\n",
       "</div>"
      ],
      "text/plain": [
       "   PassengerId  Survived  Pclass  \\\n",
       "0            1         0       3   \n",
       "1            2         1       1   \n",
       "2            3         1       3   \n",
       "3            4         1       1   \n",
       "4            5         0       3   \n",
       "\n",
       "                                                Name     Sex   Age  SibSp  \\\n",
       "0                            Braund, Mr. Owen Harris    male  22.0      1   \n",
       "1  Cumings, Mrs. John Bradley (Florence Briggs Th...  female  38.0      1   \n",
       "2                             Heikkinen, Miss. Laina  female  26.0      0   \n",
       "3       Futrelle, Mrs. Jacques Heath (Lily May Peel)  female  35.0      1   \n",
       "4                           Allen, Mr. William Henry    male  35.0      0   \n",
       "\n",
       "   Parch            Ticket     Fare Cabin Embarked  \n",
       "0      0         A/5 21171   7.2500   NaN        S  \n",
       "1      0          PC 17599  71.2833   C85        C  \n",
       "2      0  STON/O2. 3101282   7.9250   NaN        S  \n",
       "3      0            113803  53.1000  C123        S  \n",
       "4      0            373450   8.0500   NaN        S  "
      ]
     },
     "execution_count": 3,
     "metadata": {},
     "output_type": "execute_result"
    }
   ],
   "source": [
    "X_train.head()"
   ]
  },
  {
   "cell_type": "code",
   "execution_count": 4,
   "metadata": {},
   "outputs": [
    {
     "name": "stdout",
     "output_type": "stream",
     "text": [
      "<class 'pandas.core.frame.DataFrame'>\n",
      "RangeIndex: 891 entries, 0 to 890\n",
      "Data columns (total 12 columns):\n",
      " #   Column       Non-Null Count  Dtype  \n",
      "---  ------       --------------  -----  \n",
      " 0   PassengerId  891 non-null    int64  \n",
      " 1   Survived     891 non-null    int64  \n",
      " 2   Pclass       891 non-null    int64  \n",
      " 3   Name         891 non-null    object \n",
      " 4   Sex          891 non-null    object \n",
      " 5   Age          714 non-null    float64\n",
      " 6   SibSp        891 non-null    int64  \n",
      " 7   Parch        891 non-null    int64  \n",
      " 8   Ticket       891 non-null    object \n",
      " 9   Fare         891 non-null    float64\n",
      " 10  Cabin        204 non-null    object \n",
      " 11  Embarked     889 non-null    object \n",
      "dtypes: float64(2), int64(5), object(5)\n",
      "memory usage: 83.7+ KB\n"
     ]
    }
   ],
   "source": [
    "X_train.info()"
   ]
  },
  {
   "cell_type": "markdown",
   "metadata": {},
   "source": [
    "## *DATA EXPLORATION*"
   ]
  },
  {
   "cell_type": "code",
   "execution_count": 5,
   "metadata": {},
   "outputs": [
    {
     "data": {
      "text/plain": [
       "<AxesSubplot:xlabel='Survived', ylabel='count'>"
      ]
     },
     "execution_count": 5,
     "metadata": {},
     "output_type": "execute_result"
    },
    {
     "data": {
      "image/png": "[encoded data removed]",
      "text/plain": [
       "<Figure size 432x288 with 1 Axes>"
      ]
     },
     "metadata": {},
     "output_type": "display_data"
    }
   ],
   "source": [
    "sns.countplot(x = 'Survived', palette= [\"firebrick\",\"forestgreen\"], data = X_train)"
   ]
  },
  {
   "cell_type": "code",
   "execution_count": 6,
   "metadata": {
    "scrolled": false
   },
   "outputs": [
    {
     "data": {
      "text/plain": [
       "<AxesSubplot:xlabel='Pclass', ylabel='count'>"
      ]
     },
     "execution_count": 6,
     "metadata": {},
     "output_type": "execute_result"
    },
    {
     "data": {
      "image/png": "[encoded data removed]",
      "text/plain": [
       "<Figure size 432x288 with 1 Axes>"
      ]
     },
     "metadata": {},
     "output_type": "display_data"
    }
   ],
   "source": [
    "sns.countplot(x = 'Pclass',hue = 'Survived', palette= [\"firebrick\",\"forestgreen\"], data = X_train)"
   ]
  },
  {
   "cell_type": "markdown",
   "metadata": {},
   "source": [
    "### Passengers in the 1st Class were most likely to survived than the other Classes\n",
    "### Passengers in the 3rd class has less than 1/3 chance of surviving in the tragedy"
   ]
  },
  {
   "cell_type": "code",
   "execution_count": 7,
   "metadata": {
    "scrolled": true
   },
   "outputs": [
    {
     "data": {
      "text/plain": [
       "<AxesSubplot:xlabel='Sex', ylabel='count'>"
      ]
     },
     "execution_count": 7,
     "metadata": {},
     "output_type": "execute_result"
    },
    {
     "data": {
      "image/png": "[encoded data removed]",
      "text/plain": [
       "<Figure size 432x288 with 1 Axes>"
      ]
     },
     "metadata": {},
     "output_type": "display_data"
    }
   ],
   "source": [
    "sns.countplot(x = 'Sex',hue = 'Survived', palette= [\"firebrick\",\"forestgreen\"], data = X_train)"
   ]
  },
  {
   "cell_type": "markdown",
   "metadata": {},
   "source": [
    "### The females were 2 times likely to be survived than males even though the number of females are around half of the number of male passengers"
   ]
  },
  {
   "cell_type": "code",
   "execution_count": 8,
   "metadata": {
    "scrolled": false
   },
   "outputs": [
    {
     "data": {
      "text/plain": [
       "<AxesSubplot:xlabel='Embarked', ylabel='count'>"
      ]
     },
     "execution_count": 8,
     "metadata": {},
     "output_type": "execute_result"
    },
    {
     "data": {
      "image/png": "[encoded data removed]",
      "text/plain": [
       "<Figure size 432x288 with 1 Axes>"
      ]
     },
     "metadata": {},
     "output_type": "display_data"
    }
   ],
   "source": [
    "sns.countplot(x = 'Embarked',hue = 'Survived', palette= [\"firebrick\",\"forestgreen\"], data = X_train)"
   ]
  },
  {
   "cell_type": "markdown",
   "metadata": {},
   "source": [
    "### The passengers who Embarked at 'C' are most survived when compared to the passengers who Embarked at \"S\" and \"Q\""
   ]
  },
  {
   "cell_type": "code",
   "execution_count": 9,
   "metadata": {
    "scrolled": true
   },
   "outputs": [
    {
     "data": {
      "text/plain": [
       "<AxesSubplot:xlabel='AgeGroup', ylabel='count'>"
      ]
     },
     "execution_count": 9,
     "metadata": {},
     "output_type": "execute_result"
    },
    {
     "data": {
      "image/png": "[encoded data removed]",
      "text/plain": [
       "<Figure size 432x288 with 1 Axes>"
      ]
     },
     "metadata": {},
     "output_type": "display_data"
    }
   ],
   "source": [
    "viz_df = X_train.copy()\n",
    "labels = ['Children','Young Adults','Middle Aged Adults','Old Adults']\n",
    "viz_df['AgeGroup'] = pd.cut(viz_df['Age'], bins=[0,16,30,45,110], labels=labels, right=False)\n",
    "sns.countplot(x = 'AgeGroup', hue = 'Survived', data = viz_df, palette= [\"firebrick\",\"forestgreen\"])"
   ]
  },
  {
   "cell_type": "markdown",
   "metadata": {},
   "source": [
    "### Children are the most survived age group in the tragedy when compared to the other age groups\n",
    "### Young adults group has the low survived rate"
   ]
  },
  {
   "cell_type": "code",
   "execution_count": 10,
   "metadata": {},
   "outputs": [
    {
     "data": {
      "text/plain": [
       "<AxesSubplot:xlabel='Relatives', ylabel='count'>"
      ]
     },
     "execution_count": 10,
     "metadata": {},
     "output_type": "execute_result"
    },
    {
     "data": {
      "image/png": "[encoded data removed]",
      "text/plain": [
       "<Figure size 432x288 with 1 Axes>"
      ]
     },
     "metadata": {},
     "output_type": "display_data"
    }
   ],
   "source": [
    "viz_df['Relatives'] = viz_df['SibSp']+viz_df['Parch']\n",
    "sns.countplot(x = 'Relatives', hue = 'Survived', palette= ['firebrick','forestgreen'], data = viz_df)"
   ]
  },
  {
   "cell_type": "code",
   "execution_count": 11,
   "metadata": {},
   "outputs": [
    {
     "data": {
      "text/plain": [
       "<AxesSubplot:>"
      ]
     },
     "execution_count": 11,
     "metadata": {},
     "output_type": "execute_result"
    },
    {
     "data": {
      "image/png": "[encoded data removed]",
      "text/plain": [
       "<Figure size 432x288 with 2 Axes>"
      ]
     },
     "metadata": {},
     "output_type": "display_data"
    }
   ],
   "source": [
    "sns.heatmap(viz_df.corr(), annot = True)"
   ]
  },
  {
   "cell_type": "markdown",
   "metadata": {},
   "source": [
    "### From the above heat map we can observe that the passenger survival is more correlated with the Fare column, when compared to the other features"
   ]
  },
  {
   "cell_type": "markdown",
   "metadata": {},
   "source": [
    " "
   ]
  },
  {
   "cell_type": "markdown",
   "metadata": {},
   "source": [
    " "
   ]
  },
  {
   "cell_type": "markdown",
   "metadata": {},
   "source": [
    "## *DATA PREPROCESSING*"
   ]
  },
  {
   "cell_type": "code",
   "execution_count": 12,
   "metadata": {},
   "outputs": [],
   "source": [
    "def preprocessing(df):\n",
    "    \n",
    "    # Combining SibSP and Parch columns to relatives column\n",
    "    \n",
    "    df['Relatives'] = df['SibSp']+df['Parch']\n",
    "    \n",
    "    # Some instances are missing Age attribute, imputing the ages by group the passengers by their name prefix and taking the median age value of each group\n",
    "    \n",
    "    df['Name'][2].split(',')[1].split()[0]\n",
    "    prefix = []\n",
    "    for _ in df['Name']:\n",
    "        prefix.append(_.split(',')[1].split()[0])\n",
    "    df['Prefix'] = prefix    \n",
    "    df.loc[(df.Age.isnull())&(df.Prefix=='Mr.'),'Age']=df[df['Prefix'] == 'Mr.']['Age'].mean()\n",
    "    df.loc[(df.Age.isnull())&(df.Prefix=='Mrs.'),'Age']=df[df['Prefix'] == 'Mrs.']['Age'].mean()\n",
    "    df.loc[(df.Age.isnull())&(df.Prefix=='Miss.'),'Age']=df[df['Prefix'] == 'Miss.']['Age'].mean()\n",
    "    df.loc[(df.Age.isnull())&(df.Prefix=='Master.'),'Age']=df[df['Prefix'] == 'Master.']['Age'].mean()\n",
    "    \n",
    "    # dropping the columns which are not useful for training the model\n",
    "    \n",
    "    df.drop(columns = ['PassengerId','Name','Ticket','Cabin','Prefix','SibSp','Parch'],inplace = True)\n",
    "    df['Age'].fillna(df['Age'].median(),inplace = True)\n",
    "    \n",
    "    # One-hot encodeing the Embarked category column\n",
    "    \n",
    "    df['Embarked'].fillna(df['Embarked'].mode()[0],inplace = True)\n",
    "    \n",
    "    # Converting the Sex column to binary attribute column\n",
    "    \n",
    "    df['Sex'].replace({'male':1,'female':0},inplace = True)\n",
    "    \n",
    "    # Normalizing the values using Min-Max normalization\n",
    "    \n",
    "    min_ = df['Age'].min()\n",
    "    max_ = df['Age'].max()\n",
    "    df['scaled_Age'] = df['Age'].map(lambda x: (x-min_)/(max_- min_))\n",
    "    min_ = df['Fare'].min()\n",
    "    max_ = df['Fare'].max()\n",
    "    df['scaled_Fare'] = df['Fare'].map(lambda x: (x-min_)/(max_- min_))\n",
    "    dummy = pd.get_dummies(df['Embarked'], drop_first = True)\n",
    "    df.drop(columns = ['Embarked','Age','Fare'], inplace = True)\n",
    "    df = pd.concat([df,dummy],axis = 1)\n",
    "    return df"
   ]
  },
  {
   "cell_type": "code",
   "execution_count": 13,
   "metadata": {},
   "outputs": [],
   "source": [
    "X_train = preprocessing(X_train)                             # Preprocessing the training data"
   ]
  },
  {
   "cell_type": "code",
   "execution_count": 14,
   "metadata": {},
   "outputs": [],
   "source": [
    "y_train = X_train['Survived'] # y_train data\n",
    "X_train.drop(columns = ['Survived'], axis = 1, inplace = True)  # X_train data"
   ]
  },
  {
   "cell_type": "code",
   "execution_count": 15,
   "metadata": {},
   "outputs": [],
   "source": [
    "test = pd.read_csv('test.csv')\n",
    "x_test = test.copy()\n",
    "X_test = preprocessing(x_test)                                  # Preprocessing the training data"
   ]
  },
  {
   "cell_type": "markdown",
   "metadata": {},
   "source": [
    " "
   ]
  },
  {
   "cell_type": "markdown",
   "metadata": {},
   "source": [
    " "
   ]
  },
  {
   "cell_type": "markdown",
   "metadata": {},
   "source": [
    " "
   ]
  },
  {
   "cell_type": "markdown",
   "metadata": {},
   "source": [
    " "
   ]
  },
  {
   "cell_type": "markdown",
   "metadata": {},
   "source": [
    "<div>\n",
    "<img src=\"attachment:sigmoid.png\" width=\"500\"/>\n",
    "</div>"
   ]
  },
  {
   "cell_type": "markdown",
   "metadata": {},
   "source": [
    "## BUILDING THE LOGISTIC REGRESSION ALGORITHM FROM SCRATCH"
   ]
  },
  {
   "cell_type": "code",
   "execution_count": 16,
   "metadata": {},
   "outputs": [],
   "source": [
    "def sigmoid_fun(x):\n",
    "    return (1/(1+np.exp(-x)))\n",
    "def log_regression(X_train, y_train,X_test, learning_rate = 0.0001, iterations = 100000):\n",
    "    X_train = np.hstack((np.ones((X_train.shape[0], 1)),X_train))\n",
    "    X_test = np.hstack((np.ones((X_test.shape[0], 1)),X_test))\n",
    "    y = y_train\n",
    "    m,n = X_train.shape\n",
    "    tetha = np.append(1,np.random.uniform(0,1,[n-1]))\n",
    "    for i in range(iterations):\n",
    "        lin_regress = np.dot(X_train,tetha)\n",
    "        y_predict = sigmoid_fun(lin_regress)\n",
    "        error = y_predict-y\n",
    "        d_tetha = (1/m)*np.dot(X_train.T,error)\n",
    "        tetha = tetha - (learning_rate * d_tetha)\n",
    "    lin_regress = np.dot(X_test,tetha)\n",
    "    sigmoid = sigmoid_fun(lin_regress)\n",
    "    y_predicted = [0 if _<0.5 else 1 for _ in sigmoid ]\n",
    "    return np.array(y_predicted)"
   ]
  },
  {
   "cell_type": "code",
   "execution_count": 17,
   "metadata": {},
   "outputs": [],
   "source": [
    "y_pred = log_regression(X_train,y_train,X_test,5e-2,400000) # predicting by applying logistic regression"
   ]
  },
  {
   "cell_type": "markdown",
   "metadata": {},
   "source": [
    "### Converting the output to csv file"
   ]
  },
  {
   "cell_type": "code",
   "execution_count": 18,
   "metadata": {
    "scrolled": true
   },
   "outputs": [
    {
     "name": "stdout",
     "output_type": "stream",
     "text": [
      "Head of the submission file is :\n",
      "\n",
      "     PassengerId  Survived\n",
      "0            892         0\n",
      "1            893         0\n",
      "2            894         0\n",
      "3            895         0\n",
      "4            896         1\n",
      "..           ...       ...\n",
      "413         1305         0\n",
      "414         1306         1\n",
      "415         1307         0\n",
      "416         1308         0\n",
      "417         1309         0\n",
      "\n",
      "[418 rows x 2 columns]\n"
     ]
    }
   ],
   "source": [
    "submission_output = pd.DataFrame({'PassengerId':test['PassengerId'],'Survived':y_pred})\n",
    "print(f'Head of the submission file is :\\n\\n{submission_output}')\n",
    "filename = 'TitanicPredictions_submission.csv'\n",
    "submission_output.to_csv(filename,index=False)"
   ]
  },
  {
   "cell_type": "markdown",
   "metadata": {},
   "source": [
    " "
   ]
  },
  {
   "cell_type": "markdown",
   "metadata": {},
   "source": [
    " "
   ]
  },
  {
   "cell_type": "markdown",
   "metadata": {},
   "source": [
    "## KAGGLE USERNAME - ADS245_0398 / SAINATH REDDY V\n",
    "\n",
    "# KAGGLE SCORE    $\\;\\;\\;\\;$    - 77.511%\n",
    "<img src='Screenshot 2020-11-30 163215.jpg'/>\n",
    "<br>"
   ]
  },
  {
   "cell_type": "markdown",
   "metadata": {},
   "source": [
    " "
   ]
  },
  {
   "cell_type": "markdown",
   "metadata": {},
   "source": [
    " "
   ]
  },
  {
   "cell_type": "markdown",
   "metadata": {},
   "source": [
    " "
   ]
  },
  {
   "cell_type": "markdown",
   "metadata": {},
   "source": [
    "# <center>REPORT\n",
    "The data exploration part is explanied in the below the visualization part.\n",
    "### PREPROCESSING AND FEATURE SELECTION\n",
    "    1. PassengerId, Ticket and Cabin features were dropped because they either have large missing values or do not help in building the model.<br>\n",
    "    2. Around 20% percent of values are missing in the Age feature, so imputation of missing values is done by taking the average age by grouping the passengers by their name prefix(like Mr., Mrs., Miss. etc).<br>\n",
    "    3. The SibSp and Parch columns are combined into a single feature called 'Reatives' column.<br>\n",
    "    4. Sex and Embarked features are encoded using one-hot encoding method.\n",
    "    5. Finally, the Age feature is normalized using MinMax scaler.\n",
    "    \n",
    "# <center>*LOGISTIC REGRESSION*\n",
    "The predictions of the titanic dataset are binary classifiers (0 – not survived, 1 – Survived). So, I have chosen the Logistic regression Algorithm to build a model.<br>\n",
    "Logistic Regression takes the advantage of Sigmoid function to convert the linear regression equation output between 0 and 1. <br>\n",
    "<br>\n",
    "$$\n",
    "0 \\leq h_(x) \\leq 1\n",
    "$$\n",
    "where $$\n",
    "h(x)=\\frac{1}{1+e^{-\\theta^{\\top} x}}\n",
    "$$\n",
    "<img src='sigmoid.png' style = \"width:200px;height:200px\"/>\n",
    "<center> Sigmoid Function</center>\n",
    "<br>\n",
    "If we use the linear regression cost function, then we get a non-convex function with many local minima and it is not possible to reduce the cost function to a global minima using gradient descent. So, the cost function of the logistic regression is as follows\n",
    "\n",
    "$$\n",
    " cost(h(x), y)=\\left\\{\\begin{array}{ll}\n",
    "-\\log (h(x)) & \\text { if } y=1 \\\\\n",
    "-\\log (1-h(x)) & \\text { if } y=0\n",
    "\\end{array}\\right.\n",
    "$$\n",
    "<br>\n",
    "The above cost function can be rewritten as\n",
    "$$\n",
    "\\operatorname{cost}(h(x), y)=-y \\log (h(x))-(1-y) \\log (1-h(x))\n",
    "$$\n",
    "<br>\n",
    "<br>\n",
    "<br>\n",
    "The above cost function can be reduced by using gradient descent.<br>\n",
    "<br>\n",
    "To minimize the cost function \n",
    "$$\n",
    "\\min J(\\theta) \\Rightarrow \\theta_{j}=\\theta_{j}-\\alpha \\frac{\\partial}{\\partial \\theta_{j}} J(\\theta)\n",
    "$$\n",
    "$$\n",
    "\\begin{aligned}\n",
    "\\text { where } \\frac{\\partial}{\\partial \\theta_{j}} J(\\theta) &=\\frac{1}{m} \\sum_{i=1}^{m}(h(x)-y) x_{j} \\\\\n",
    "& m=\\text { number of instances }\n",
    "\\end{aligned}\n",
    "$$\n",
    "    \n",
    "   <br>\n",
    "    <br>\n",
    "    <br>\n",
    "    \n",
    "## PSUEDO CODE\n",
    "    \n",
    "    step 1: Define a parameter vector (tetha) of size (no of features) and assign a random values between 0 and 1.\n",
    "    step 2: Dot product the tetha and X_train datasets.\n",
    "    step 3: Apply the sigmoid function to the above result.\n",
    "    step 4: find error value(y_predict - y)\n",
    "    step 5: Apply the gradient descent.\n",
    "    Step 6: repeat step 2 to step 5 untill all iterations are completed.\n",
    "    step 7: predict the values for the test data by applying dot multiplication to X_test and tetha.\n",
    "    step 8: apply sigmoid function to the result and make a threshold to classify into groups.\n",
    "<br>\n",
    "    <br>\n",
    "    <br>\n",
    "    \n",
    "# RESULT\n",
    "  ##  The obtained accuracy on the titanic test data is 77.511%."
   ]
  },
  {
   "cell_type": "code",
   "execution_count": null,
   "metadata": {},
   "outputs": [],
   "source": []
  }
 ],
 "metadata": {
  "kernelspec": {
   "display_name": "Python 3",
   "language": "python",
   "name": "python3"
  },
  "language_info": {
   "codemirror_mode": {
    "name": "ipython",
    "version": 3
   },
   "file_extension": ".py",
   "mimetype": "text/x-python",
   "name": "python",
   "nbconvert_exporter": "python",
   "pygments_lexer": "ipython3",
   "version": "3.8.5"
  }
 },
 "nbformat": 4,
 "nbformat_minor": 4
}
